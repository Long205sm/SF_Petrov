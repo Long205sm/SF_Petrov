{
 "cells": [
  {
   "cell_type": "markdown",
   "metadata": {},
   "source": [
    "#### ИСПОЛЬЗУЕМ ФУНКЦИЮ READ_TABLE()"
   ]
  },
  {
   "cell_type": "code",
   "execution_count": 2,
   "metadata": {},
   "outputs": [],
   "source": [
    "import pandas as pd"
   ]
  },
  {
   "cell_type": "code",
   "execution_count": 4,
   "metadata": {},
   "outputs": [],
   "source": [
    "# Импорт библиотеки pandas — при выполнении последовательно всех примеров ниже\n",
    "# импорт выполняется один раз\n",
    "import pandas as pd \n",
    "# Загружаем данные из файла в переменную, создавая объект DataFrame\n",
    "countries_data = pd.read_csv('data/countries.csv', sep=';') \n",
    "# Выгружаем данные из DataFrame в CSV-файл и сохраняем файл в папке data\n",
    "countries_data.to_csv('data/countries.txt', index=False, sep=' ')"
   ]
  },
  {
   "cell_type": "code",
   "execution_count": 5,
   "metadata": {},
   "outputs": [
    {
     "data": {
      "text/html": [
       "<div>\n",
       "<style scoped>\n",
       "    .dataframe tbody tr th:only-of-type {\n",
       "        vertical-align: middle;\n",
       "    }\n",
       "\n",
       "    .dataframe tbody tr th {\n",
       "        vertical-align: top;\n",
       "    }\n",
       "\n",
       "    .dataframe thead th {\n",
       "        text-align: right;\n",
       "    }\n",
       "</style>\n",
       "<table border=\"1\" class=\"dataframe\">\n",
       "  <thead>\n",
       "    <tr style=\"text-align: right;\">\n",
       "      <th></th>\n",
       "      <th>population</th>\n",
       "      <th>square</th>\n",
       "    </tr>\n",
       "    <tr>\n",
       "      <th>country</th>\n",
       "      <th></th>\n",
       "      <th></th>\n",
       "    </tr>\n",
       "  </thead>\n",
       "  <tbody>\n",
       "    <tr>\n",
       "      <th>Англия</th>\n",
       "      <td>56.29</td>\n",
       "      <td>133396</td>\n",
       "    </tr>\n",
       "    <tr>\n",
       "      <th>Канада</th>\n",
       "      <td>38.05</td>\n",
       "      <td>9984670</td>\n",
       "    </tr>\n",
       "    <tr>\n",
       "      <th>США</th>\n",
       "      <td>322.28</td>\n",
       "      <td>9826630</td>\n",
       "    </tr>\n",
       "    <tr>\n",
       "      <th>Россия</th>\n",
       "      <td>146.24</td>\n",
       "      <td>17125191</td>\n",
       "    </tr>\n",
       "    <tr>\n",
       "      <th>Украина</th>\n",
       "      <td>45.50</td>\n",
       "      <td>603628</td>\n",
       "    </tr>\n",
       "    <tr>\n",
       "      <th>Беларусь</th>\n",
       "      <td>9.50</td>\n",
       "      <td>207600</td>\n",
       "    </tr>\n",
       "    <tr>\n",
       "      <th>Казахстан</th>\n",
       "      <td>17.04</td>\n",
       "      <td>2724902</td>\n",
       "    </tr>\n",
       "  </tbody>\n",
       "</table>\n",
       "</div>"
      ],
      "text/plain": [
       "           population    square\n",
       "country                        \n",
       "Англия          56.29    133396\n",
       "Канада          38.05   9984670\n",
       "США            322.28   9826630\n",
       "Россия         146.24  17125191\n",
       "Украина         45.50    603628\n",
       "Беларусь         9.50    207600\n",
       "Казахстан       17.04   2724902"
      ]
     },
     "metadata": {},
     "output_type": "display_data"
    }
   ],
   "source": [
    "# Загружаем данные из файла в переменную, создавая объект DataFrame\n",
    "txt_df = pd.read_table('data/countries.txt', sep=' ', index_col=['country'])\n",
    "# Выводим содержимое DataFrame на экран\n",
    "display(txt_df)"
   ]
  },
  {
   "cell_type": "markdown",
   "metadata": {},
   "source": [
    "#### ПРИМЕНЕНИЕ ПАРАМЕТРА HEADER\n",
    "\n",
    "Используя параметр header, при создании DataFrame мы учитываем наличие/отсутствие строки заголовков в исходном файле данных.\n",
    "\n",
    "Например, если при считывании данных из ранее сохранённого в папке data файла melb_data_ps.csv указать значение параметра header=None, то первая строка исходного файла не будет восприниматься как строка заголовка и будет отнесена к области данных DataFrame:"
   ]
  },
  {
   "cell_type": "code",
   "execution_count": 10,
   "metadata": {},
   "outputs": [
    {
     "data": {
      "text/html": [
       "<div>\n",
       "<style scoped>\n",
       "    .dataframe tbody tr th:only-of-type {\n",
       "        vertical-align: middle;\n",
       "    }\n",
       "\n",
       "    .dataframe tbody tr th {\n",
       "        vertical-align: top;\n",
       "    }\n",
       "\n",
       "    .dataframe thead th {\n",
       "        text-align: right;\n",
       "    }\n",
       "</style>\n",
       "<table border=\"1\" class=\"dataframe\">\n",
       "  <thead>\n",
       "    <tr style=\"text-align: right;\">\n",
       "      <th></th>\n",
       "      <th>0</th>\n",
       "      <th>1</th>\n",
       "      <th>2</th>\n",
       "      <th>3</th>\n",
       "      <th>4</th>\n",
       "      <th>5</th>\n",
       "      <th>6</th>\n",
       "      <th>7</th>\n",
       "      <th>8</th>\n",
       "      <th>9</th>\n",
       "      <th>...</th>\n",
       "      <th>13</th>\n",
       "      <th>14</th>\n",
       "      <th>15</th>\n",
       "      <th>16</th>\n",
       "      <th>17</th>\n",
       "      <th>18</th>\n",
       "      <th>19</th>\n",
       "      <th>20</th>\n",
       "      <th>21</th>\n",
       "      <th>22</th>\n",
       "    </tr>\n",
       "  </thead>\n",
       "  <tbody>\n",
       "    <tr>\n",
       "      <th>0</th>\n",
       "      <td>index</td>\n",
       "      <td>Suburb</td>\n",
       "      <td>Address</td>\n",
       "      <td>Rooms</td>\n",
       "      <td>Type</td>\n",
       "      <td>Price</td>\n",
       "      <td>Method</td>\n",
       "      <td>SellerG</td>\n",
       "      <td>Date</td>\n",
       "      <td>Distance</td>\n",
       "      <td>...</td>\n",
       "      <td>Car</td>\n",
       "      <td>Landsize</td>\n",
       "      <td>BuildingArea</td>\n",
       "      <td>YearBuilt</td>\n",
       "      <td>CouncilArea</td>\n",
       "      <td>Lattitude</td>\n",
       "      <td>Longtitude</td>\n",
       "      <td>Regionname</td>\n",
       "      <td>Propertycount</td>\n",
       "      <td>Coordinates</td>\n",
       "    </tr>\n",
       "    <tr>\n",
       "      <th>1</th>\n",
       "      <td>0</td>\n",
       "      <td>Abbotsford</td>\n",
       "      <td>85 Turner St</td>\n",
       "      <td>2</td>\n",
       "      <td>h</td>\n",
       "      <td>1480000.0</td>\n",
       "      <td>S</td>\n",
       "      <td>Biggin</td>\n",
       "      <td>3/12/2016</td>\n",
       "      <td>2.5</td>\n",
       "      <td>...</td>\n",
       "      <td>1</td>\n",
       "      <td>202.0</td>\n",
       "      <td>126.0</td>\n",
       "      <td>1970</td>\n",
       "      <td>Yarra</td>\n",
       "      <td>-37.7996</td>\n",
       "      <td>144.9984</td>\n",
       "      <td>Northern Metropolitan</td>\n",
       "      <td>4019</td>\n",
       "      <td>-37.7996, 144.9984</td>\n",
       "    </tr>\n",
       "  </tbody>\n",
       "</table>\n",
       "<p>2 rows × 23 columns</p>\n",
       "</div>"
      ],
      "text/plain": [
       "      0           1             2      3     4          5       6        7   \\\n",
       "0  index      Suburb       Address  Rooms  Type      Price  Method  SellerG   \n",
       "1      0  Abbotsford  85 Turner St      2     h  1480000.0       S   Biggin   \n",
       "\n",
       "          8         9   ...   13        14            15         16  \\\n",
       "0       Date  Distance  ...  Car  Landsize  BuildingArea  YearBuilt   \n",
       "1  3/12/2016       2.5  ...    1     202.0         126.0       1970   \n",
       "\n",
       "            17         18          19                     20             21  \\\n",
       "0  CouncilArea  Lattitude  Longtitude             Regionname  Propertycount   \n",
       "1        Yarra   -37.7996    144.9984  Northern Metropolitan           4019   \n",
       "\n",
       "                   22  \n",
       "0         Coordinates  \n",
       "1  -37.7996, 144.9984  \n",
       "\n",
       "[2 rows x 23 columns]"
      ]
     },
     "metadata": {},
     "output_type": "display_data"
    }
   ],
   "source": [
    "# Загружаем данные из файла в переменную, создавая объект DataFrame\n",
    "melb_data = pd.read_csv('/Users/macbook/Documents/GitHub/SF_Petrov/PY_11_Базовые_приемы_Pandas/data/melb_data_ps.csv', header=None) \n",
    "# Выводим содержимое DataFrame на экран\n",
    "display(melb_data.head(2))"
   ]
  },
  {
   "cell_type": "markdown",
   "metadata": {},
   "source": [
    "#### РЕШАЕМ ПРОБЛЕМУ С КОДИРОВКОЙ ИСХОДНЫХ ДАННЫХ"
   ]
  }
 ],
 "metadata": {
  "kernelspec": {
   "display_name": "Python 3",
   "language": "python",
   "name": "python3"
  },
  "language_info": {
   "codemirror_mode": {
    "name": "ipython",
    "version": 3
   },
   "file_extension": ".py",
   "mimetype": "text/x-python",
   "name": "python",
   "nbconvert_exporter": "python",
   "pygments_lexer": "ipython3",
   "version": "3.9.10"
  },
  "orig_nbformat": 4
 },
 "nbformat": 4,
 "nbformat_minor": 2
}
